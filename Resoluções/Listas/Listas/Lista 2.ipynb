{
 "cells": [
  {
   "cell_type": "markdown",
   "metadata": {},
   "source": [
    "# Lista de Exercícios II"
   ]
  },
  {
   "cell_type": "markdown",
   "metadata": {},
   "source": [
    "* Aluno : Gabriel Wendell Celestino Rocha\n",
    "* Matrícula :  20190112149 "
   ]
  },
  {
   "cell_type": "markdown",
   "metadata": {},
   "source": [
    "* Disciplina : Física Computacional II\n",
    "* Professor : Leonardo Machado\n",
    "* Data de Entrega : 12/02/2021"
   ]
  },
  {
   "cell_type": "code",
   "execution_count": 1,
   "metadata": {},
   "outputs": [],
   "source": [
    "import matplotlib.pyplot as plt\n",
    "import numpy as np\n",
    "import scipy as sp\n",
    "import time"
   ]
  },
  {
   "cell_type": "markdown",
   "metadata": {},
   "source": [
    "## Problema 1"
   ]
  },
  {
   "cell_type": "markdown",
   "metadata": {},
   "source": [
    "Vamos resolver a equação de Poisson para o problema bidimensional abordado no Exemplo 9.1 do livro *Computational Physics* de Mark Newmann (imagem disponível na [lista 2](https://github.com/GabrielWendell/Fisica-Computacional-II/blob/main/Listas/Lista%202.pdf)). No problema em questão, vamos utilizar $\\epsilon_{0}=1$ e a nossa iteração será executada até que o valor do potencial elétrico mude em não mais do que $\\delta=10^{-6}$ $V$ em qualquer ponto da grade em qualquer etapa."
   ]
  },
  {
   "cell_type": "markdown",
   "metadata": {},
   "source": [
    "Primeiramente, vamos definir algumas constantes que serão utilizadas ao longo do problema:"
   ]
  },
  {
   "cell_type": "code",
   "execution_count": 2,
   "metadata": {},
   "outputs": [],
   "source": [
    "M = 100        # Quadrados de grade em um lado\n",
    "V = 1.0        # Voltagem.\n",
    "target = 1e-6  # Precisão alvo."
   ]
  },
  {
   "cell_type": "markdown",
   "metadata": {},
   "source": [
    "Agora definimos nossos arrays:"
   ]
  },
  {
   "cell_type": "code",
   "execution_count": 3,
   "metadata": {},
   "outputs": [],
   "source": [
    "phi = np.zeros([M+1,M+1],float)\n",
    "\n",
    "phi[60:80,20:40] = V\n",
    "phi[20:40,60:80] = -V\n",
    "\n",
    "store = np.empty([M+1,M+1],float)"
   ]
  },
  {
   "cell_type": "markdown",
   "metadata": {},
   "source": [
    "Agora vamos ao loop principal:"
   ]
  },
  {
   "cell_type": "code",
   "execution_count": 4,
   "metadata": {},
   "outputs": [],
   "source": [
    "delta = 10.0\n",
    "timestart = time.time()\n",
    "\n",
    "while delta > target:\n",
    "    # Calcula os novos valores do potencial\n",
    "    delta = 0\n",
    "    for i in range(1,M-1):\n",
    "        for j in range(1,M-1):\n",
    "            if i==0 or i==M or j==0 or j==M:\n",
    "                store[i,j] = 0 \n",
    "            else:\n",
    "                store[i,j] = (phi[i+1,j] + phi[i-1,j] + phi[i,j+1] + phi[i,j-1])/4\n",
    "                difference = abs(store[i,j] - phi[i,j])\n",
    "                \n",
    "                if difference > delta:\n",
    "                    delta = difference\n",
    "\n",
    "    phi = np.copy(store)\n",
    "                    \n",
    "timeend = time.time()\n",
    "totaltime = timeend - timestart"
   ]
  },
  {
   "cell_type": "markdown",
   "metadata": {},
   "source": [
    "Por fim, vamos ao plot:"
   ]
  },
  {
   "cell_type": "code",
   "execution_count": 5,
   "metadata": {},
   "outputs": [
    {
     "data": {
      "image/png": "[encoded data removed]",
      "text/plain": [
       "<Figure size 576x360 with 1 Axes>"
      ]
     },
     "metadata": {
      "needs_background": "light"
     },
     "output_type": "display_data"
    }
   ],
   "source": [
    "plt.figure(figsize=(8,5))\n",
    "\n",
    "plt.title('Eletrostática', family='serif', fontsize=15)\n",
    "plt.imshow(phi)\n",
    "plt.hot()\n",
    "# plt.gray()"
   ]
  },
  {
   "cell_type": "markdown",
   "metadata": {},
   "source": [
    "Vamos ver o tempo que foi gasto no nosso programa:"
   ]
  },
  {
   "cell_type": "code",
   "execution_count": 6,
   "metadata": {},
   "outputs": [
    {
     "name": "stdout",
     "output_type": "stream",
     "text": [
      "Tempo gasto: 172.83701634407043 segundos\n"
     ]
    }
   ],
   "source": [
    "print('Tempo gasto:', totaltime, 'segundos')"
   ]
  },
  {
   "cell_type": "markdown",
   "metadata": {},
   "source": [
    "$\\text{ }$"
   ]
  },
  {
   "cell_type": "markdown",
   "metadata": {},
   "source": [
    "## Problema 2"
   ]
  },
  {
   "cell_type": "markdown",
   "metadata": {},
   "source": [
    "Vamos usar o método de superrelaxação / Gauss-Seidal para resolver a equação de Laplace para o problema bidimensional abordada no Exemplo 9.1 do livro *Computational Physics* de Mark Newmann - uma caixa quadrada de 1 m de cada lado, com tensão $V=1$ volt ao longo da parede superior e zero voltao longo dos outros três. Usamos uma grade de espaçamento $a=$ 1cm, de modo que haja 100 pontos de grade ao longo de cada parede, ou 101 se você contar os pontos em ambas as extremidades."
   ]
  },
  {
   "cell_type": "markdown",
   "metadata": {},
   "source": [
    "Continuamos a iteração do método até que o valor do potencial elétrico mude em não mais do que $\\delta=10^{-6}$ $V$ em qualquer ponto da grade em qualquer etapa, então fazemos um gráfico de densidade da solução final, semelhante à mostrada em 9.3."
   ]
  },
  {
   "cell_type": "markdown",
   "metadata": {},
   "source": [
    "Vamos experimentar diferentes valores de $\\omega$ para descobrir qual valor fornece a solução mais rápida. Começamos definindo as constantes que iremos utilizar:"
   ]
  },
  {
   "cell_type": "code",
   "execution_count": 7,
   "metadata": {},
   "outputs": [],
   "source": [
    "M = 100        # Quadrados de grade em um lado\n",
    "V = 1.0        # Tensão na parede superior\n",
    "target = 1e-6  # Precisão alvo\n",
    "w = 0.9        # Omega"
   ]
  },
  {
   "cell_type": "markdown",
   "metadata": {},
   "source": [
    "Agora criamos matrizes para armazenar os valores dos potenciais:"
   ]
  },
  {
   "cell_type": "code",
   "execution_count": 8,
   "metadata": {},
   "outputs": [],
   "source": [
    "phi = np.zeros([M+1,M+1],float)\n",
    "phi[0,:] = V"
   ]
  },
  {
   "cell_type": "markdown",
   "metadata": {},
   "source": [
    "Agora vamos ao loop principal:"
   ]
  },
  {
   "cell_type": "code",
   "execution_count": 9,
   "metadata": {},
   "outputs": [],
   "source": [
    "delta = 1.0\n",
    "timestart = time.time()\n",
    "\n",
    "while delta > target:\n",
    "    # Calcula novos valores do potencial:\n",
    "    delta = 0.0\n",
    "    for i in range(M+1):\n",
    "        for j in range(M+1):\n",
    "            if i==0 or i==M or j==0 or j==M:\n",
    "                continue\n",
    "            else:\n",
    "                temp = phi[i,j]\n",
    "                phi[i,j] = (1 + w)*(phi[i+1,j] + phi[i-1,j] \\\n",
    "                                 + phi[i,j+1] + phi[i,j-1])/4 \\\n",
    "                                - w*phi[i,j]\n",
    "                difference = abs(temp - phi[i,j])\n",
    "                if difference > delta:\n",
    "                    delta = difference\n",
    "                    \n",
    "timeend = time.time()\n",
    "totaltime = timeend - timestart"
   ]
  },
  {
   "cell_type": "markdown",
   "metadata": {},
   "source": [
    "Por fim, vamos gerar o nosso plot:"
   ]
  },
  {
   "cell_type": "code",
   "execution_count": 10,
   "metadata": {},
   "outputs": [
    {
     "data": {
      "image/png": "[encoded data removed]",
      "text/plain": [
       "<Figure size 576x360 with 1 Axes>"
      ]
     },
     "metadata": {
      "needs_background": "light"
     },
     "output_type": "display_data"
    }
   ],
   "source": [
    "plt.figure(figsize=(8,5))\n",
    "\n",
    "plt.title('Eletrostática', family='serif', fontsize=15)\n",
    "plt.imshow(phi)\n",
    "plt.hot()\n",
    "# plt.gray()"
   ]
  },
  {
   "cell_type": "markdown",
   "metadata": {},
   "source": [
    "Vamos ver o tempo que foi gasto em nosso programa:"
   ]
  },
  {
   "cell_type": "code",
   "execution_count": 11,
   "metadata": {},
   "outputs": [
    {
     "name": "stdout",
     "output_type": "stream",
     "text": [
      "Tempo gasto: 19.566171646118164 segundos\n"
     ]
    }
   ],
   "source": [
    "print('Tempo gasto:', totaltime, 'segundos')"
   ]
  },
  {
   "cell_type": "markdown",
   "metadata": {},
   "source": [
    "$\\text{ }$"
   ]
  },
  {
   "cell_type": "markdown",
   "metadata": {},
   "source": [
    "## Problema 3"
   ]
  },
  {
   "cell_type": "markdown",
   "metadata": {},
   "source": [
    "Consideremos o modelo simples de um capacitor eletrônico, consistindo de duas placas de metal planas envolvidas em uma caixa de metal quadrada (imagem disponível na [lista 2](https://github.com/GabrielWendell/Fisica-Computacional-II/blob/main/Listas/Lista%202.pdf))."
   ]
  },
  {
   "cell_type": "markdown",
   "metadata": {},
   "source": [
    "Para simplificar, modelamos o sistema em duas dimensões. Usamos o método de Jacobi para escrever o programa para calcular o potencial eletrostático na caixa em uma grade de $100\\times100$ pontos, onde as paredes da caixa estão com tensão zero e as duas placas (que são de espessura desprezível) são nas tensões $\\pm 1$ $V$ conforme mostrado."
   ]
  },
  {
   "cell_type": "markdown",
   "metadata": {},
   "source": [
    "Calculamos o valor do potencial em cada ponto da grade com uma precisão de $10^{-6}$ volts e, em seguida, fazemos um gráfico de densidade do resultado. Analogamente ao que foi feito no problema anterior, começamos definindo as nossas constantes:"
   ]
  },
  {
   "cell_type": "code",
   "execution_count": 12,
   "metadata": {},
   "outputs": [],
   "source": [
    "M = 100        # Quadrados de grade em um lado\n",
    "V = 1.0        # Tensão na parede superior\n",
    "target = 1e-6  # Precisão alvo\n",
    "w = 0.9        # Omega"
   ]
  },
  {
   "cell_type": "markdown",
   "metadata": {},
   "source": [
    "Agora criamos arrays para armazenar os valores do potencial:"
   ]
  },
  {
   "cell_type": "code",
   "execution_count": 13,
   "metadata": {},
   "outputs": [],
   "source": [
    "phi = np.zeros([M+1,M+1],float)\n",
    "phi[0,:] = 0         # Parede de cima.\n",
    "phi[:,0] = 0         # Parede da esquerda \n",
    "phi[M,:] = 0         # Parede de baixo. \n",
    "phi[:,M] = 0         # Parede da direita. \n",
    "phi[20:81,20] = 1    # Placa positiva esquerda.\n",
    "phi[20:81,80] = -1   # Placa negativa direita. \n",
    "\n",
    "# phiprime = np.empty([M+1,M+1],float)"
   ]
  },
  {
   "cell_type": "markdown",
   "metadata": {},
   "source": [
    "Agora vamos ao loop principal:"
   ]
  },
  {
   "cell_type": "code",
   "execution_count": 14,
   "metadata": {},
   "outputs": [],
   "source": [
    "delta = 1.0\n",
    "timestart = time.time()\n",
    "\n",
    "while delta > target:\n",
    "    \n",
    "    # Calcula novos valores do potencial:\n",
    "    delta = 0.0 \n",
    "    for i in range(M+1):\n",
    "        for j in range(M+1):\n",
    "            if i==0 or i==M or j==0 or j==M or (20<=i<=80 and j == 20)\\\n",
    "            or (20<=i<=80 and j == 80):\n",
    "                continue \n",
    "            else:\n",
    "                temp = phi[i,j]\n",
    "                phi[i,j] = (1 + w)*(phi[i+1,j] + phi[i-1,j] \\\n",
    "                                 + phi[i,j+1] + phi[i,j-1])/4 \\\n",
    "                                - w*phi[i,j]\n",
    "                difference = abs(temp - phi[i,j])\n",
    "                if difference > delta: \n",
    "                    delta = difference \n",
    "                \n",
    "timeend = time.time()\n",
    "totaltime = timeend - timestart "
   ]
  },
  {
   "cell_type": "markdown",
   "metadata": {},
   "source": [
    "Por fim, vamos ao plot:"
   ]
  },
  {
   "cell_type": "code",
   "execution_count": 15,
   "metadata": {},
   "outputs": [
    {
     "data": {
      "image/png": "[encoded data removed]",
      "text/plain": [
       "<Figure size 576x360 with 1 Axes>"
      ]
     },
     "metadata": {
      "needs_background": "light"
     },
     "output_type": "display_data"
    }
   ],
   "source": [
    "plt.figure(figsize=(8,5))\n",
    "\n",
    "plt.title('Modelo simples de um capacitor eletrônico',family='serif',fontsize=15)\n",
    "plt.imshow(phi)\n",
    "plt.hot()\n",
    "# plt.gray()"
   ]
  },
  {
   "cell_type": "markdown",
   "metadata": {},
   "source": [
    "Para complementar, vamos ver o tempo gasto pelo programa:"
   ]
  },
  {
   "cell_type": "code",
   "execution_count": 16,
   "metadata": {},
   "outputs": [
    {
     "name": "stdout",
     "output_type": "stream",
     "text": [
      "Tempo gasto: 12.344534158706665 segundos\n"
     ]
    }
   ],
   "source": [
    "print('Tempo gasto:', totaltime, \"segundos\")"
   ]
  },
  {
   "cell_type": "markdown",
   "metadata": {},
   "source": [
    "$\\text{ }$"
   ]
  },
  {
   "cell_type": "markdown",
   "metadata": {},
   "source": [
    "## Problema 4"
   ]
  },
  {
   "cell_type": "markdown",
   "metadata": {},
   "source": [
    "Um exemplo clássico do problema de difusão com uma condição de contorno variável no tempo é a difusão de calor na crosta terrestre, pois a temperatura da superfície varia com as estações. Suponha que a temperatura média diária em um determinado ponto da superfície varie como:"
   ]
  },
  {
   "cell_type": "markdown",
   "metadata": {},
   "source": [
    "$$T_{0}(t)=A+B\\sin{\\frac{2\\pi t}{\\tau}},$$"
   ]
  },
  {
   "cell_type": "markdown",
   "metadata": {},
   "source": [
    "onde $\\tau=365$ dias, $A=10^{\\circ}C$, e $B=12^{\\circ}C$."
   ]
  },
  {
   "cell_type": "markdown",
   "metadata": {},
   "source": [
    "A uma profundidade de 20m abaixo da superfície, quase toda a variação anual de temperatura é eliminada e a temperatura é, em uma boa aproximação, uma constante de $11^{\\circ}C$ (que é maior que a temperatura média da superfície de $10^{\\circ}C$ - a temperatura aumenta com a profundidade, devido ao aquecimento do núcleo quente do planeta). A difusividade térmica da crosta terrestre varia um pouco de um lugar para outro, mas para nossos propósitos, vamos tratá-la como constante com valor de $D=0.1$ $m^{2}\\cdot\\text{dia}^{-1}$."
   ]
  },
  {
   "cell_type": "markdown",
   "metadata": {},
   "source": [
    "Vamos escrever um programa para calcular o perfil de temperatura da crosta em função da profundidade de até 20m e do tempo de até 10 anos. Começamos com uma temperatura em todos os lugares igual a $10^{\\circ}C$, exceto na superfície e no ponto mais profundo, escolhemos valores para o número de pontos de grade e o intervalo de tempo $h$, em seguida, executamos nosso programa para os primeiros nove anos simulados, para permitir que ele se estabeleça em qualquer padrão que alcance. Em seguida, para o décimo e último ano, traçaremos quatro perfis de temperatura tomados em intervalos de 3 meses em um único gráfico para ilustrar como a temperatura muda em função da profundidade e do tempo."
   ]
  },
  {
   "cell_type": "markdown",
   "metadata": {},
   "source": [
    "Começamos definindo as constantes que usaremos ao longo do problema:"
   ]
  },
  {
   "cell_type": "code",
   "execution_count": 17,
   "metadata": {},
   "outputs": [],
   "source": [
    "L = 20.0      # Espessura da superfície da Terra (em metros).\n",
    "D = 0.1       # Difusividade térmica em m^{2}*dia^{-1}.\n",
    "N = 100       # Número de divisões na grade.\n",
    "a = L/N       # Espaçamento da grade.\n",
    "h = 1e-2      # Intervalo de tempo.\n",
    "tau = 365     # Um ano (em dias).\n",
    "A = 10        # Temperatura (em Celsius).\n",
    "B = 12        # Temperatura (em Celsius).\n",
    "\n",
    "epsilon = h/1000"
   ]
  },
  {
   "cell_type": "markdown",
   "metadata": {},
   "source": [
    "Definimos a nossa função principal:"
   ]
  },
  {
   "cell_type": "code",
   "execution_count": 18,
   "metadata": {},
   "outputs": [],
   "source": [
    "def surfaceT(t):\n",
    "    return A + B*np.sin(2*np.pi*t/tau)"
   ]
  },
  {
   "cell_type": "markdown",
   "metadata": {},
   "source": [
    "Definimos mais algumas constantes:"
   ]
  },
  {
   "cell_type": "code",
   "execution_count": 19,
   "metadata": {},
   "outputs": [],
   "source": [
    "Tsurf = 10.0    # Temperatura baixa (em Celsius).\n",
    "Tearth = 10.0   # Temperatura intermediária (em Celsius).\n",
    "Tbottom = 11.0  # Temperatura alta (em Celsius)."
   ]
  },
  {
   "cell_type": "markdown",
   "metadata": {},
   "source": [
    "Definimos agora as relações temporais:"
   ]
  },
  {
   "cell_type": "code",
   "execution_count": 20,
   "metadata": {},
   "outputs": [],
   "source": [
    "t9 = 9*tau\n",
    "t91 = 9.25*tau\n",
    "t92 = 9.5*tau \n",
    "t93 = 9.75*tau\n",
    "t10 = 10*tau\n",
    "tend = t10 + epsilon"
   ]
  },
  {
   "cell_type": "markdown",
   "metadata": {},
   "source": [
    "Criamos nossos arrays:"
   ]
  },
  {
   "cell_type": "code",
   "execution_count": 21,
   "metadata": {},
   "outputs": [],
   "source": [
    "T = np.empty(N+1,float)\n",
    "T[0] = Tbottom\n",
    "T[N] = A\n",
    "T[1:N] = Tearth\n",
    "Tp = np.empty(N+1,float)\n",
    "Tp[0] = Tbottom\n",
    "Tp[N] = A "
   ]
  },
  {
   "cell_type": "markdown",
   "metadata": {},
   "source": [
    "Como de costume, criamos uma função para melhorar um pouco a estética dos plots:"
   ]
  },
  {
   "cell_type": "code",
   "execution_count": 22,
   "metadata": {},
   "outputs": [],
   "source": [
    "def opt_plot():\n",
    "    plt.grid(True, linestyle=':', color='0.50')\n",
    "    plt.minorticks_on()\n",
    "    plt.tick_params(axis='both',which='minor', direction = \"in\",\n",
    "                    top = True,right = True, length=5,width=1,labelsize=15)\n",
    "    plt.tick_params(axis='both',which='major', direction = \"in\",\n",
    "                    top = True,right = True, length=8,width=1,labelsize=15)"
   ]
  },
  {
   "cell_type": "markdown",
   "metadata": {},
   "source": [
    "Agora estabelecemos o nosso loop principal:"
   ]
  },
  {
   "cell_type": "code",
   "execution_count": 23,
   "metadata": {},
   "outputs": [
    {
     "data": {
      "text/plain": [
       "<matplotlib.legend.Legend at 0x23b48339f88>"
      ]
     },
     "execution_count": 23,
     "metadata": {},
     "output_type": "execute_result"
    },
    {
     "data": {
      "image/png": "[encoded data removed]",
      "text/plain": [
       "<Figure size 576x360 with 1 Axes>"
      ]
     },
     "metadata": {
      "needs_background": "light"
     },
     "output_type": "display_data"
    }
   ],
   "source": [
    "t = 0.0\n",
    "c = h*D/(a*a)\n",
    "\n",
    "plt.figure(figsize=(8,5))\n",
    "while t < tend:\n",
    "\n",
    "    # Calcula os novos valores de T:\n",
    "    T[0] = surfaceT(t)\n",
    "    '''\n",
    "    for i in range(1,N):\n",
    "        Tp[i] = T[i] + c*(T[i+1]+T[i-1]-2*T[i])\n",
    "    '''\n",
    "    Tp[1:N] = T[1:N] + c*(T[0:N-1] + T[2:N+1] -2*T[1:N])\n",
    "    T,Tp = Tp,T\n",
    "    t += h\n",
    "\n",
    "    # Realiza as plotagens nos momentos dados:\n",
    "    if abs(t-t9) < epsilon:\n",
    "        plt.plot(T, color='blue', label = \"Nove anos\")\n",
    "        opt_plot()\n",
    "    if abs(t-t91) < epsilon:\n",
    "        plt.plot(T, '--', color='red', label = \"Nove 1/4 anos\")\n",
    "    if abs(t-t92) < epsilon:\n",
    "        plt.plot(T, '--', color='darkgreen', label = \"Nove 1/2 anos\")\n",
    "    if abs(t-t93) < epsilon:\n",
    "        plt.plot(T, '--', color='black', label = \"Nove 3/4 anos\")\n",
    "    if abs(t-t10) < epsilon:\n",
    "        plt.plot(T, color='purple', label = \"Dez anos\")\n",
    "        \n",
    "plt.title('Difusão termal na crosta da Terra',family='serif',fontsize=15)\n",
    "plt.xlabel('x',family='serif',fontsize=15)\n",
    "plt.ylabel('y',family='serif',fontsize=15)\n",
    "plt.legend(loc='best')    "
   ]
  },
  {
   "cell_type": "markdown",
   "metadata": {},
   "source": [
    "$\\text{ }$"
   ]
  }
 ],
 "metadata": {
  "kernelspec": {
   "display_name": "Python 3",
   "language": "python",
   "name": "python3"
  },
  "language_info": {
   "codemirror_mode": {
    "name": "ipython",
    "version": 3
   },
   "file_extension": ".py",
   "mimetype": "text/x-python",
   "name": "python",
   "nbconvert_exporter": "python",
   "pygments_lexer": "ipython3",
   "version": "3.7.5"
  }
 },
 "nbformat": 4,
 "nbformat_minor": 2
}
